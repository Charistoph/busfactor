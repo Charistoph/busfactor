{
 "cells": [
  {
   "cell_type": "markdown",
   "metadata": {},
   "source": [
    "# Check out Gios Graph"
   ]
  },
  {
   "cell_type": "code",
   "execution_count": null,
   "metadata": {},
   "outputs": [],
   "source": [
    "edges = pd.read_csv(\"../../spot2spot.csv\")\n",
    "edges = edges.sort_values('length')\n",
    "print('len(df): %i' % len(edges))\n",
    "display(edges.head())\n",
    "# What are the units of these numbers?\n",
    "# - length appears to be in km\n",
    "# - duration appears to be in hours\n",
    "# What is weight?\n",
    "\n",
    "\n",
    "old_len = len(edges)\n",
    "edges = edges.drop_duplicates()\n",
    "print(\"old_length: %i, new_length: %i, diff: %i\" % (\n",
    "    old_len, len(edges), old_len-len(edges)))\n",
    "\n",
    "edges = edges.rename(columns={'origin': 'start', 'destination': 'end'})\n",
    "\n",
    "# plt.hist(df['length'], bins=100);\n",
    "# plt.hist(df['duration'], bins=100);\n",
    "plt.title('Drive Speed Gio\\'s Graph')\n",
    "plt.hist(edges['length']/edges['duration'], bins=100)\n",
    "plt.ylabel('counts')\n",
    "plt.xlabel('speed [kmh]')\n",
    "plt.savefig(os.path.join(plots_path,'gio_drive_speed_hist.png'), dpi=400)\n",
    "\n",
    "median_speed = (edges['length']/edges['duration']).median()\n",
    "print('median_speed: %0.2f' % median_speed)\n",
    "\n",
    "\n",
    "# get nodes\n",
    "print(len(edges['end'].values), len(edges['start'].values))\n",
    "print(len(np.unique(edges['end'].values)), len(np.unique(edges['start'].values)))\n",
    "nodes_raw = np.unique(np.concatenate([edges['start'].values, edges['end'].values]))\n",
    "nodes = pd.DataFrame(nodes_raw, columns=['id'])\n",
    "gh_arr = np.array([h3.h3_to_geo(x) for x in nodes_raw])\n",
    "nodes = nodes.assign(lng = gh_arr[:,0])\n",
    "nodes = nodes.assign(lat = gh_arr[:,1])\n",
    "\n",
    "\n",
    "# add lat lng to graph\n",
    "node_to_lat = dict(zip(nodes.id, nodes.lat))\n",
    "node_to_lng = dict(zip(nodes.id, nodes.lng))\n",
    "edges = edges.assign(start_lat = edges['start'].apply(lambda x: node_to_lat[x]))\n",
    "edges = edges.assign(start_lng = edges['start'].apply(lambda x: node_to_lng[x]))\n",
    "edges = edges.assign(end_lat = edges['end'].apply(lambda x: node_to_lat[x]))\n",
    "edges = edges.assign(end_lng = edges['end'].apply(lambda x: node_to_lng[x]))\n",
    "edges.to_csv(\"gio_tmp.csv\")"
   ]
  }
 ],
 "metadata": {
  "kernelspec": {
   "display_name": "Python 3",
   "language": "python",
   "name": "python3"
  },
  "language_info": {
   "codemirror_mode": {
    "name": "ipython",
    "version": 3
   },
   "file_extension": ".py",
   "mimetype": "text/x-python",
   "name": "python",
   "nbconvert_exporter": "python",
   "pygments_lexer": "ipython3",
   "version": "3.7.4"
  }
 },
 "nbformat": 4,
 "nbformat_minor": 4
}
